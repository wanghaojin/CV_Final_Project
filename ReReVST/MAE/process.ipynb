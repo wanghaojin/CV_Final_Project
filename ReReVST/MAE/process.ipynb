{
 "cells": [
  {
   "cell_type": "code",
   "execution_count": 4,
   "metadata": {},
   "outputs": [],
   "source": [
    "import os\n",
    "import cv2\n",
    "import numpy as np\n",
    "\n",
    "path1 = 'inputfox1'\n",
    "path2 = 'inputfox2'\n",
    "path3 = 'inputfox3'\n",
    "path4 = 'inputfox4'\n",
    "os.makedirs(path1, exist_ok=True)\n",
    "os.makedirs(path2, exist_ok=True)\n",
    "os.makedirs(path3, exist_ok=True)\n",
    "os.makedirs(path4, exist_ok=True)\n",
    "ori_path = 'input_fox'\n",
    "for img in os.listdir(ori_path):\n",
    "    img_path = os.path.join(ori_path, img)\n",
    "    img = cv2.imread(img_path)\n",
    "    img = cv2.resize(img, (224, 224))\n",
    "    # print(img.shape)\n",
    "    img1 = img[0:112, 0:112]\n",
    "    img2 = img[0:112, 112:224]\n",
    "    img3 = img[112:224, 0:112]\n",
    "    img4 = img[112:224, 112:224]\n",
    "    cv2.imwrite(os.path.join(path1, img_path.split('/')[-1]), img1)\n",
    "    cv2.imwrite(os.path.join(path2, img_path.split('/')[-1]), img2)\n",
    "    cv2.imwrite(os.path.join(path3, img_path.split('/')[-1]), img3)\n",
    "    cv2.imwrite(os.path.join(path4, img_path.split('/')[-1]), img4)"
   ]
  }
 ],
 "metadata": {
  "kernelspec": {
   "display_name": "gs",
   "language": "python",
   "name": "python3"
  },
  "language_info": {
   "codemirror_mode": {
    "name": "ipython",
    "version": 3
   },
   "file_extension": ".py",
   "mimetype": "text/x-python",
   "name": "python",
   "nbconvert_exporter": "python",
   "pygments_lexer": "ipython3",
   "version": "3.11.8"
  }
 },
 "nbformat": 4,
 "nbformat_minor": 2
}
